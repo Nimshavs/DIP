{
 "cells": [
  {
   "cell_type": "markdown",
   "id": "15d4d46d",
   "metadata": {},
   "source": [
    "# Extracting images from video"
   ]
  },
  {
   "cell_type": "code",
   "execution_count": 7,
   "id": "36029575",
   "metadata": {},
   "outputs": [],
   "source": [
    "import cv2\n",
    "import os\n",
    "\n",
    "# Define the folder path to store captured images\n",
    "output_folder = 'C:/Users/nimsh/OneDrive/Desktop/DIP/data'\n",
    "\n",
    "# Create the output folder if it doesn't exist\n",
    "if not os.path.exists(output_folder):\n",
    "    os.makedirs(output_folder)\n",
    "\n",
    "cam = cv2.VideoCapture(0)\n",
    "newframe = 0\n",
    "img_limit=200\n",
    "\n",
    "while newframe <= img_limit:\n",
    "    success, frame = cam.read()\n",
    "    cv2.imshow(\"Output\", frame)\n",
    "    image_path = os.path.join(output_folder, 'frame' + str(newframe) + '.jpg')\n",
    "    cv2.imwrite(image_path, frame)\n",
    "    newframe += 1\n",
    "\n",
    "    if cv2.waitKey(1) & 0xFF == ord('q'):\n",
    "        break\n",
    "\n",
    "cam.release()\n",
    "cv2.destroyAllWindows()\n"
   ]
  },
  {
   "cell_type": "code",
   "execution_count": null,
   "id": "e652dc77",
   "metadata": {},
   "outputs": [],
   "source": []
  }
 ],
 "metadata": {
  "kernelspec": {
   "display_name": "Python 3 (ipykernel)",
   "language": "python",
   "name": "python3"
  },
  "language_info": {
   "codemirror_mode": {
    "name": "ipython",
    "version": 3
   },
   "file_extension": ".py",
   "mimetype": "text/x-python",
   "name": "python",
   "nbconvert_exporter": "python",
   "pygments_lexer": "ipython3",
   "version": "3.9.13"
  }
 },
 "nbformat": 4,
 "nbformat_minor": 5
}
