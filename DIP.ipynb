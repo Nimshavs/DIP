{
 "cells": [
  {
   "cell_type": "markdown",
   "id": "071e97f1",
   "metadata": {},
   "source": [
    "# Generate dataset"
   ]
  },
  {
   "cell_type": "code",
   "execution_count": 1,
   "id": "affefed0",
   "metadata": {},
   "outputs": [],
   "source": [
    "import cv2"
   ]
  },
  {
   "cell_type": "code",
   "execution_count": 2,
   "id": "5bc1b177",
   "metadata": {},
   "outputs": [
    {
     "name": "stderr",
     "output_type": "stream",
     "text": [
      "<>:9: SyntaxWarning: \"is\" with a literal. Did you mean \"==\"?\n",
      "<>:9: SyntaxWarning: \"is\" with a literal. Did you mean \"==\"?\n",
      "C:\\Users\\nimsh\\AppData\\Local\\Temp\\ipykernel_21480\\982590206.py:9: SyntaxWarning: \"is\" with a literal. Did you mean \"==\"?\n",
      "  if faces is ():\n"
     ]
    }
   ],
   "source": [
    "def generate_dataset():\n",
    "    classifier=cv2.CascadeClassifier(\"haarcascade_frontalface_default.xml\")\n",
    "    def cropped_face(img):\n",
    "        grey = cv2.cvtColor(img, cv2.COLOR_BGR2GRAY)\n",
    "        faces = classifier.detectMultiScale(grey,1.3,5)\n",
    "        #scalling factor=1.3\n",
    "        #minimum neighbour=5  at what neighbour we are going to detect image\n",
    "        \n",
    "        if faces is ():\n",
    "            return None\n",
    "        for(x,y,h,w) in faces:\n",
    "            cropped_img= img[y:y+h,x:x+w] \n",
    "        return cropped_img\n",
    "    \n",
    "    cap = cv2.VideoCapture(0) #if we have extra camera we can use 1 or -1 instead of 0\n",
    "    id=1\n",
    "    img_id=1 # no: of img of each authorised person\n",
    "    \n",
    "    while True:\n",
    "         ret,frame = cap.read() # this function return two value \n",
    "         # we don't need to look to ret, value focus on frame value\n",
    "         if cropped_face(frame) is not None:  # here call the func: and the img changes to frame and proceed the func:\n",
    "            img_id += 1\n",
    "            face = cv2.resize(cropped_face(frame),(200,200))\n",
    "            face = cv2.cvtColor(face, cv2.COLOR_BGR2GRAY)\n",
    "            folder_name = \"data/user.\" + str(id) + \".\" + str(img_id) +\".jpg\"\n",
    "            cv2.imwrite(folder_name,face)\n",
    "            cv2.putText(face,str(img_id),(50,50),cv2.FONT_HERSHEY_COMPLEX,1,(0,255,0),2)\n",
    "            # (0,255,0) - green color\n",
    "            # (50,50) - origin point from where text is to be written\n",
    "            # thickness - 2\n",
    "            # font scale = 1\n",
    "            \n",
    "            cv2.imshow(\"Cropped face\",face)\n",
    "            if cv2.waitKey(1)==13 or int(img_id)==200:\n",
    "            # 13 ascii value of enter key, when pressed it will break from the loop\n",
    "            # 27 ascii value of esc\n",
    "                break\n",
    "    cap.release()\n",
    "    cv2.destroyAllWindows()\n",
    "    print(\"Collecting samples completed\")\n",
    "# generate_dataset()"
   ]
  },
  {
   "cell_type": "markdown",
   "id": "fca66c17",
   "metadata": {},
   "source": [
    "# Training the classifier"
   ]
  },
  {
   "cell_type": "code",
   "execution_count": 3,
   "id": "f84398a9",
   "metadata": {},
   "outputs": [],
   "source": [
    "import numpy as np\n",
    "from PIL import Image\n",
    "import os"
   ]
  },
  {
   "cell_type": "code",
   "execution_count": 4,
   "id": "4142443f",
   "metadata": {},
   "outputs": [],
   "source": [
    "def train(data_dir):\n",
    "    path = [os.path.join(data_dir,f)for f in os.listdir(data_dir)]\n",
    "    # this join each img name to the folder path where it lies\n",
    "    # f - name of each img\n",
    "    faces = []\n",
    "    ids = []\n",
    "    \n",
    "    for image in path:\n",
    "        img = Image.open(image).convert('L'); \n",
    "        # another method for converting to grey scale image\n",
    "        imgnp = np.array(img,'uint8')\n",
    "        id = int(os.path.split(image)[1].split(\".\")[1])\n",
    "        \n",
    "        # C:\\Users\\nimsh\\OneDrive\\Desktop\\DIP\\data -- 0 index\n",
    "        # user.1.1 -- 1 index , above code split the name after dot\n",
    "        \n",
    "        faces.append(imgnp)\n",
    "        ids.append(id)\n",
    "    ids = np.array(ids)\n",
    "    \n",
    "    # train the classifier and save\n",
    "    classify = cv2.face.LBPHFaceRecognizer_create() \n",
    "    classify.train(faces,ids)\n",
    "    classify.write(\"classifier.xml\")\n",
    "train(\"data\")"
   ]
  }
 ],
 "metadata": {
  "kernelspec": {
   "display_name": "Python 3 (ipykernel)",
   "language": "python",
   "name": "python3"
  },
  "language_info": {
   "codemirror_mode": {
    "name": "ipython",
    "version": 3
   },
   "file_extension": ".py",
   "mimetype": "text/x-python",
   "name": "python",
   "nbconvert_exporter": "python",
   "pygments_lexer": "ipython3",
   "version": "3.9.13"
  }
 },
 "nbformat": 4,
 "nbformat_minor": 5
}
